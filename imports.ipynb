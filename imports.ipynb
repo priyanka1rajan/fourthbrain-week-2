{
 "cells": [
  {
   "cell_type": "code",
   "execution_count": 1,
   "id": "dd8ca316",
   "metadata": {},
   "outputs": [
    {
     "name": "stdout",
     "output_type": "stream",
     "text": [
      "Collecting transformers\n",
      "  Using cached transformers-4.20.1-py3-none-any.whl (4.4 MB)\n",
      "Collecting torch\n",
      "  Using cached torch-1.12.0-cp38-none-macosx_10_9_x86_64.whl (137.6 MB)\n",
      "Collecting regex!=2019.12.17\n",
      "  Using cached regex-2022.6.2-cp38-cp38-macosx_10_9_x86_64.whl (289 kB)\n",
      "Collecting requests\n",
      "  Downloading requests-2.28.1-py3-none-any.whl (62 kB)\n",
      "\u001b[K     |████████████████████████████████| 62 kB 1.7 MB/s eta 0:00:01\n",
      "\u001b[?25hCollecting huggingface-hub<1.0,>=0.1.0\n",
      "  Using cached huggingface_hub-0.8.1-py3-none-any.whl (101 kB)\n",
      "Collecting filelock\n",
      "  Using cached filelock-3.7.1-py3-none-any.whl (10 kB)\n",
      "Collecting tqdm>=4.27\n",
      "  Using cached tqdm-4.64.0-py2.py3-none-any.whl (78 kB)\n",
      "Collecting tokenizers!=0.11.3,<0.13,>=0.11.1\n",
      "  Using cached tokenizers-0.12.1-cp38-cp38-macosx_10_11_x86_64.whl (3.6 MB)\n",
      "Requirement already satisfied: packaging>=20.0 in /Users/prajan/miniconda3/envs/sa/lib/python3.8/site-packages (from transformers) (21.3)\n",
      "Collecting pyyaml>=5.1\n",
      "  Using cached PyYAML-6.0-cp38-cp38-macosx_10_9_x86_64.whl (192 kB)\n",
      "Collecting numpy>=1.17\n",
      "  Using cached numpy-1.23.0-cp38-cp38-macosx_10_9_x86_64.whl (18.1 MB)\n",
      "Requirement already satisfied: typing-extensions in /Users/prajan/miniconda3/envs/sa/lib/python3.8/site-packages (from torch) (4.1.1)\n",
      "Requirement already satisfied: pyparsing!=3.0.5,>=2.0.2 in /Users/prajan/miniconda3/envs/sa/lib/python3.8/site-packages (from packaging>=20.0->transformers) (3.0.4)\n",
      "Collecting urllib3<1.27,>=1.21.1\n",
      "  Using cached urllib3-1.26.9-py2.py3-none-any.whl (138 kB)\n",
      "Collecting idna<4,>=2.5\n",
      "  Using cached idna-3.3-py3-none-any.whl (61 kB)\n",
      "Collecting charset-normalizer<3,>=2\n",
      "  Downloading charset_normalizer-2.1.0-py3-none-any.whl (39 kB)\n",
      "Requirement already satisfied: certifi>=2017.4.17 in /Users/prajan/miniconda3/envs/sa/lib/python3.8/site-packages (from requests->transformers) (2022.6.15)\n",
      "Installing collected packages: urllib3, idna, charset-normalizer, tqdm, requests, pyyaml, filelock, tokenizers, regex, numpy, huggingface-hub, transformers, torch\n",
      "Successfully installed charset-normalizer-2.1.0 filelock-3.7.1 huggingface-hub-0.8.1 idna-3.3 numpy-1.23.0 pyyaml-6.0 regex-2022.6.2 requests-2.28.1 tokenizers-0.12.1 torch-1.12.0 tqdm-4.64.0 transformers-4.20.1 urllib3-1.26.9\n",
      "Collecting emoji==0.6.0\n",
      "  Using cached emoji-0.6.0-py3-none-any.whl\n",
      "Installing collected packages: emoji\n",
      "Successfully installed emoji-0.6.0\n"
     ]
    },
    {
     "data": {
      "application/vnd.jupyter.widget-view+json": {
       "model_id": "7bc2f013cf7846afbe89ac15975a747c",
       "version_major": 2,
       "version_minor": 0
      },
      "text/plain": [
       "Downloading:   0%|          | 0.00/1.13k [00:00<?, ?B/s]"
      ]
     },
     "metadata": {},
     "output_type": "display_data"
    }
   ],
   "source": [
    "!pip install transformers torch\n",
    "!pip install emoji==0.6.0\n",
    "\n",
    "from transformers import pipeline\n",
    "\n",
    "pinstall = pipeline(model=\"finiteautomata/bertweet-base-sentiment-analysis\")"
   ]
  },
  {
   "cell_type": "code",
   "execution_count": null,
   "id": "010c408f",
   "metadata": {},
   "outputs": [],
   "source": []
  }
 ],
 "metadata": {
  "kernelspec": {
   "display_name": "Python 3 (ipykernel)",
   "language": "python",
   "name": "python3"
  },
  "language_info": {
   "codemirror_mode": {
    "name": "ipython",
    "version": 3
   },
   "file_extension": ".py",
   "mimetype": "text/x-python",
   "name": "python",
   "nbconvert_exporter": "python",
   "pygments_lexer": "ipython3",
   "version": "3.8.13"
  }
 },
 "nbformat": 4,
 "nbformat_minor": 5
}
